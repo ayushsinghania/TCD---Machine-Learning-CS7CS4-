{
 "cells": [
  {
   "cell_type": "code",
   "execution_count": 1,
   "metadata": {},
   "outputs": [],
   "source": [
    "%config IPCompleter.greedy=True\n",
    "import time\n",
    "from sklearn import tree\n",
    "from sklearn.model_selection import train_test_split\n",
    "from sklearn.ensemble import RandomForestRegressor\n",
    "from sklearn.linear_model import LinearRegression\n",
    "from sklearn.metrics import mean_squared_error, r2_score\n",
    "from sklearn.preprocessing import StandardScaler\n",
    "from sklearn.neighbors import KNeighborsClassifier\n",
    "%matplotlib inline\n",
    "import matplotlib.pyplot as plt\n",
    "import pandas as pd\n",
    "import numpy as np\n",
    "import xgboost as xgb\n",
    "import re\n",
    "regex = re.compile(r\"\\[|\\]|<\", re.IGNORECASE)"
   ]
  },
  {
   "cell_type": "markdown",
   "metadata": {},
   "source": [
    "# Load Data"
   ]
  },
  {
   "cell_type": "code",
   "execution_count": 2,
   "metadata": {},
   "outputs": [],
   "source": [
    "train = pd.read_csv(\"tcd ml 2019-20 income prediction training (with labels).csv\", index_col = 0)\n",
    "train = train[['Country', 'Profession', 'Year of Record', 'Age', 'Body Height [cm]','Income in EUR', 'Size of City','University Degree']]\n",
    "Y = train['Income in EUR']\n",
    "test_set = pd.read_csv(\"tcd ml 2019-20 income prediction test (without labels).csv\", index_col = 0)\n",
    "test_set = test_set[['Country', 'Profession', 'Year of Record', 'Age', 'Body Height [cm]','Income', 'Size of City','University Degree']]"
   ]
  },
  {
   "cell_type": "code",
   "execution_count": 3,
   "metadata": {},
   "outputs": [
    {
     "data": {
      "text/html": [
       "<div>\n",
       "<style scoped>\n",
       "    .dataframe tbody tr th:only-of-type {\n",
       "        vertical-align: middle;\n",
       "    }\n",
       "\n",
       "    .dataframe tbody tr th {\n",
       "        vertical-align: top;\n",
       "    }\n",
       "\n",
       "    .dataframe thead th {\n",
       "        text-align: right;\n",
       "    }\n",
       "</style>\n",
       "<table border=\"1\" class=\"dataframe\">\n",
       "  <thead>\n",
       "    <tr style=\"text-align: right;\">\n",
       "      <th></th>\n",
       "      <th>Country</th>\n",
       "      <th>Profession</th>\n",
       "      <th>Year of Record</th>\n",
       "      <th>Age</th>\n",
       "      <th>Body Height [cm]</th>\n",
       "      <th>Income</th>\n",
       "      <th>Size of City</th>\n",
       "      <th>University Degree</th>\n",
       "    </tr>\n",
       "    <tr>\n",
       "      <th>Instance</th>\n",
       "      <th></th>\n",
       "      <th></th>\n",
       "      <th></th>\n",
       "      <th></th>\n",
       "      <th></th>\n",
       "      <th></th>\n",
       "      <th></th>\n",
       "      <th></th>\n",
       "    </tr>\n",
       "  </thead>\n",
       "  <tbody>\n",
       "    <tr>\n",
       "      <td>111994</td>\n",
       "      <td>Honduras</td>\n",
       "      <td>senior project analyst</td>\n",
       "      <td>1992.0</td>\n",
       "      <td>21.0</td>\n",
       "      <td>153</td>\n",
       "      <td>NaN</td>\n",
       "      <td>391652</td>\n",
       "      <td>Master</td>\n",
       "    </tr>\n",
       "    <tr>\n",
       "      <td>111995</td>\n",
       "      <td>Kyrgyzstan</td>\n",
       "      <td>greeter</td>\n",
       "      <td>1986.0</td>\n",
       "      <td>34.0</td>\n",
       "      <td>163</td>\n",
       "      <td>NaN</td>\n",
       "      <td>33653</td>\n",
       "      <td>Bachelor</td>\n",
       "    </tr>\n",
       "    <tr>\n",
       "      <td>111996</td>\n",
       "      <td>Portugal</td>\n",
       "      <td>liaison</td>\n",
       "      <td>1994.0</td>\n",
       "      <td>53.0</td>\n",
       "      <td>153</td>\n",
       "      <td>NaN</td>\n",
       "      <td>34765</td>\n",
       "      <td>Bachelor</td>\n",
       "    </tr>\n",
       "    <tr>\n",
       "      <td>111997</td>\n",
       "      <td>Uruguay</td>\n",
       "      <td>occupational therapist</td>\n",
       "      <td>1984.0</td>\n",
       "      <td>29.0</td>\n",
       "      <td>154</td>\n",
       "      <td>NaN</td>\n",
       "      <td>1494132</td>\n",
       "      <td>No</td>\n",
       "    </tr>\n",
       "    <tr>\n",
       "      <td>111998</td>\n",
       "      <td>Serbia</td>\n",
       "      <td>portfolio manager</td>\n",
       "      <td>2007.0</td>\n",
       "      <td>17.0</td>\n",
       "      <td>191</td>\n",
       "      <td>NaN</td>\n",
       "      <td>120661</td>\n",
       "      <td>No</td>\n",
       "    </tr>\n",
       "  </tbody>\n",
       "</table>\n",
       "</div>"
      ],
      "text/plain": [
       "             Country              Profession  Year of Record   Age  \\\n",
       "Instance                                                             \n",
       "111994      Honduras  senior project analyst          1992.0  21.0   \n",
       "111995    Kyrgyzstan                 greeter          1986.0  34.0   \n",
       "111996      Portugal                 liaison          1994.0  53.0   \n",
       "111997       Uruguay  occupational therapist          1984.0  29.0   \n",
       "111998        Serbia       portfolio manager          2007.0  17.0   \n",
       "\n",
       "          Body Height [cm]  Income  Size of City University Degree  \n",
       "Instance                                                            \n",
       "111994                 153     NaN        391652            Master  \n",
       "111995                 163     NaN         33653          Bachelor  \n",
       "111996                 153     NaN         34765          Bachelor  \n",
       "111997                 154     NaN       1494132                No  \n",
       "111998                 191     NaN        120661                No  "
      ]
     },
     "execution_count": 3,
     "metadata": {},
     "output_type": "execute_result"
    }
   ],
   "source": [
    "test_set.head()"
   ]
  },
  {
   "cell_type": "markdown",
   "metadata": {},
   "source": [
    "# Split the Data"
   ]
  },
  {
   "cell_type": "code",
   "execution_count": 4,
   "metadata": {},
   "outputs": [],
   "source": [
    "train[\"train\"] = 1\n",
    "test_set[\"train\"] = 0"
   ]
  },
  {
   "cell_type": "code",
   "execution_count": 5,
   "metadata": {
    "scrolled": true
   },
   "outputs": [],
   "source": [
    "df = pd.concat([train,test_set], sort=True)"
   ]
  },
  {
   "cell_type": "code",
   "execution_count": 6,
   "metadata": {},
   "outputs": [],
   "source": [
    "df = df.rename(columns = {'Body Height [cm]' : 'Body Height cm'})"
   ]
  },
  {
   "cell_type": "markdown",
   "metadata": {},
   "source": [
    "# Data Cleaning"
   ]
  },
  {
   "cell_type": "code",
   "execution_count": 7,
   "metadata": {},
   "outputs": [],
   "source": [
    "col = df.columns\n",
    "df[col] = df[col].fillna(df.mean().iloc[0])"
   ]
  },
  {
   "cell_type": "code",
   "execution_count": 8,
   "metadata": {},
   "outputs": [
    {
     "data": {
      "text/plain": [
       "Age                  0\n",
       "Body Height cm       0\n",
       "Country              0\n",
       "Income               0\n",
       "Income in EUR        0\n",
       "Profession           0\n",
       "Size of City         0\n",
       "University Degree    0\n",
       "Year of Record       0\n",
       "train                0\n",
       "dtype: int64"
      ]
     },
     "execution_count": 8,
     "metadata": {},
     "output_type": "execute_result"
    }
   ],
   "source": [
    "df.isnull().sum()"
   ]
  },
  {
   "cell_type": "code",
   "execution_count": 9,
   "metadata": {},
   "outputs": [],
   "source": [
    "df_dup = df"
   ]
  },
  {
   "cell_type": "code",
   "execution_count": 10,
   "metadata": {},
   "outputs": [],
   "source": [
    "df1 = df.groupby('Profession')['Income in EUR'].agg('mean')\n",
    "df1 = df1.to_dict()\n",
    "df2 = df.groupby('Country')['Income in EUR'].agg('mean')\n",
    "df2 = df2.to_dict()\n",
    "df3 = df.groupby('University Degree')['Income in EUR'].agg('mean')\n",
    "df3 = df3.to_dict()"
   ]
  },
  {
   "cell_type": "code",
   "execution_count": 11,
   "metadata": {},
   "outputs": [],
   "source": [
    "df.Profession = df.Profession.replace(df1)\n",
    "df.Country = df.Country.replace(df2)\n",
    "df['University Degree']= df['University Degree'].replace(df3)"
   ]
  },
  {
   "cell_type": "code",
   "execution_count": 12,
   "metadata": {},
   "outputs": [
    {
     "data": {
      "text/html": [
       "<div>\n",
       "<style scoped>\n",
       "    .dataframe tbody tr th:only-of-type {\n",
       "        vertical-align: middle;\n",
       "    }\n",
       "\n",
       "    .dataframe tbody tr th {\n",
       "        vertical-align: top;\n",
       "    }\n",
       "\n",
       "    .dataframe thead th {\n",
       "        text-align: right;\n",
       "    }\n",
       "</style>\n",
       "<table border=\"1\" class=\"dataframe\">\n",
       "  <thead>\n",
       "    <tr style=\"text-align: right;\">\n",
       "      <th></th>\n",
       "      <th>Age</th>\n",
       "      <th>Body Height cm</th>\n",
       "      <th>Country</th>\n",
       "      <th>Income</th>\n",
       "      <th>Income in EUR</th>\n",
       "      <th>Profession</th>\n",
       "      <th>Size of City</th>\n",
       "      <th>University Degree</th>\n",
       "      <th>Year of Record</th>\n",
       "      <th>train</th>\n",
       "    </tr>\n",
       "    <tr>\n",
       "      <th>Instance</th>\n",
       "      <th></th>\n",
       "      <th></th>\n",
       "      <th></th>\n",
       "      <th></th>\n",
       "      <th></th>\n",
       "      <th></th>\n",
       "      <th></th>\n",
       "      <th></th>\n",
       "      <th></th>\n",
       "      <th></th>\n",
       "    </tr>\n",
       "  </thead>\n",
       "  <tbody>\n",
       "    <tr>\n",
       "      <td>1</td>\n",
       "      <td>41.0</td>\n",
       "      <td>193</td>\n",
       "      <td>19901.938560</td>\n",
       "      <td>37.301599</td>\n",
       "      <td>61031.94416</td>\n",
       "      <td>90894.613620</td>\n",
       "      <td>1239930</td>\n",
       "      <td>66171.973738</td>\n",
       "      <td>1997.0</td>\n",
       "      <td>1</td>\n",
       "    </tr>\n",
       "    <tr>\n",
       "      <td>2</td>\n",
       "      <td>41.0</td>\n",
       "      <td>186</td>\n",
       "      <td>33970.831049</td>\n",
       "      <td>37.301599</td>\n",
       "      <td>91001.32764</td>\n",
       "      <td>87476.563667</td>\n",
       "      <td>1603504</td>\n",
       "      <td>70029.467371</td>\n",
       "      <td>1996.0</td>\n",
       "      <td>1</td>\n",
       "    </tr>\n",
       "    <tr>\n",
       "      <td>3</td>\n",
       "      <td>28.0</td>\n",
       "      <td>170</td>\n",
       "      <td>52065.951148</td>\n",
       "      <td>37.301599</td>\n",
       "      <td>157982.17670</td>\n",
       "      <td>67844.140129</td>\n",
       "      <td>1298017</td>\n",
       "      <td>78634.418796</td>\n",
       "      <td>2018.0</td>\n",
       "      <td>1</td>\n",
       "    </tr>\n",
       "    <tr>\n",
       "      <td>4</td>\n",
       "      <td>33.0</td>\n",
       "      <td>171</td>\n",
       "      <td>60790.387872</td>\n",
       "      <td>37.301599</td>\n",
       "      <td>45993.75793</td>\n",
       "      <td>31511.817627</td>\n",
       "      <td>751903</td>\n",
       "      <td>60914.817625</td>\n",
       "      <td>2006.0</td>\n",
       "      <td>1</td>\n",
       "    </tr>\n",
       "    <tr>\n",
       "      <td>5</td>\n",
       "      <td>46.0</td>\n",
       "      <td>188</td>\n",
       "      <td>26056.481036</td>\n",
       "      <td>37.301599</td>\n",
       "      <td>38022.16217</td>\n",
       "      <td>54399.130301</td>\n",
       "      <td>95389</td>\n",
       "      <td>86807.478434</td>\n",
       "      <td>2010.0</td>\n",
       "      <td>1</td>\n",
       "    </tr>\n",
       "  </tbody>\n",
       "</table>\n",
       "</div>"
      ],
      "text/plain": [
       "           Age  Body Height cm       Country     Income  Income in EUR  \\\n",
       "Instance                                                                 \n",
       "1         41.0             193  19901.938560  37.301599    61031.94416   \n",
       "2         41.0             186  33970.831049  37.301599    91001.32764   \n",
       "3         28.0             170  52065.951148  37.301599   157982.17670   \n",
       "4         33.0             171  60790.387872  37.301599    45993.75793   \n",
       "5         46.0             188  26056.481036  37.301599    38022.16217   \n",
       "\n",
       "            Profession  Size of City  University Degree  Year of Record  train  \n",
       "Instance                                                                        \n",
       "1         90894.613620       1239930       66171.973738          1997.0      1  \n",
       "2         87476.563667       1603504       70029.467371          1996.0      1  \n",
       "3         67844.140129       1298017       78634.418796          2018.0      1  \n",
       "4         31511.817627        751903       60914.817625          2006.0      1  \n",
       "5         54399.130301         95389       86807.478434          2010.0      1  "
      ]
     },
     "execution_count": 12,
     "metadata": {},
     "output_type": "execute_result"
    }
   ],
   "source": [
    "df.head()"
   ]
  },
  {
   "cell_type": "markdown",
   "metadata": {},
   "source": [
    "# One-Hot Encoding"
   ]
  },
  {
   "cell_type": "code",
   "execution_count": 13,
   "metadata": {},
   "outputs": [],
   "source": [
    "# df_2 = pd.get_dummies(df, columns = [\"Gender\",\"University Degree\",\"Hair Color\"])"
   ]
  },
  {
   "cell_type": "code",
   "execution_count": 14,
   "metadata": {},
   "outputs": [],
   "source": [
    "# df_2.shape"
   ]
  },
  {
   "cell_type": "code",
   "execution_count": 15,
   "metadata": {},
   "outputs": [],
   "source": [
    "# new_train = df_2[df_2['train'] == 1]\n",
    "# new_test = df_2[df_2['train'] == 0]\n",
    "\n",
    "new_train = df[df['train'] == 1]\n",
    "new_test = df[df['train'] == 0]"
   ]
  },
  {
   "cell_type": "code",
   "execution_count": 16,
   "metadata": {},
   "outputs": [
    {
     "name": "stderr",
     "output_type": "stream",
     "text": [
      "/Users/Ayush/anaconda3/lib/python3.7/site-packages/pandas/core/frame.py:4102: SettingWithCopyWarning: \n",
      "A value is trying to be set on a copy of a slice from a DataFrame\n",
      "\n",
      "See the caveats in the documentation: http://pandas.pydata.org/pandas-docs/stable/user_guide/indexing.html#returning-a-view-versus-a-copy\n",
      "  errors=errors,\n"
     ]
    }
   ],
   "source": [
    "new_train.drop(['Income','train'],axis=1,inplace=True)\n",
    "new_test.drop(['Income in EUR','train'],axis=1,inplace=True)"
   ]
  },
  {
   "cell_type": "code",
   "execution_count": 17,
   "metadata": {},
   "outputs": [
    {
     "data": {
      "text/html": [
       "<div>\n",
       "<style scoped>\n",
       "    .dataframe tbody tr th:only-of-type {\n",
       "        vertical-align: middle;\n",
       "    }\n",
       "\n",
       "    .dataframe tbody tr th {\n",
       "        vertical-align: top;\n",
       "    }\n",
       "\n",
       "    .dataframe thead th {\n",
       "        text-align: right;\n",
       "    }\n",
       "</style>\n",
       "<table border=\"1\" class=\"dataframe\">\n",
       "  <thead>\n",
       "    <tr style=\"text-align: right;\">\n",
       "      <th></th>\n",
       "      <th>Age</th>\n",
       "      <th>Body Height cm</th>\n",
       "      <th>Country</th>\n",
       "      <th>Income in EUR</th>\n",
       "      <th>Profession</th>\n",
       "      <th>Size of City</th>\n",
       "      <th>University Degree</th>\n",
       "      <th>Year of Record</th>\n",
       "    </tr>\n",
       "    <tr>\n",
       "      <th>Instance</th>\n",
       "      <th></th>\n",
       "      <th></th>\n",
       "      <th></th>\n",
       "      <th></th>\n",
       "      <th></th>\n",
       "      <th></th>\n",
       "      <th></th>\n",
       "      <th></th>\n",
       "    </tr>\n",
       "  </thead>\n",
       "  <tbody>\n",
       "    <tr>\n",
       "      <td>1</td>\n",
       "      <td>41.0</td>\n",
       "      <td>193</td>\n",
       "      <td>19901.938560</td>\n",
       "      <td>61031.94416</td>\n",
       "      <td>90894.613620</td>\n",
       "      <td>1239930</td>\n",
       "      <td>66171.973738</td>\n",
       "      <td>1997.0</td>\n",
       "    </tr>\n",
       "    <tr>\n",
       "      <td>2</td>\n",
       "      <td>41.0</td>\n",
       "      <td>186</td>\n",
       "      <td>33970.831049</td>\n",
       "      <td>91001.32764</td>\n",
       "      <td>87476.563667</td>\n",
       "      <td>1603504</td>\n",
       "      <td>70029.467371</td>\n",
       "      <td>1996.0</td>\n",
       "    </tr>\n",
       "    <tr>\n",
       "      <td>3</td>\n",
       "      <td>28.0</td>\n",
       "      <td>170</td>\n",
       "      <td>52065.951148</td>\n",
       "      <td>157982.17670</td>\n",
       "      <td>67844.140129</td>\n",
       "      <td>1298017</td>\n",
       "      <td>78634.418796</td>\n",
       "      <td>2018.0</td>\n",
       "    </tr>\n",
       "    <tr>\n",
       "      <td>4</td>\n",
       "      <td>33.0</td>\n",
       "      <td>171</td>\n",
       "      <td>60790.387872</td>\n",
       "      <td>45993.75793</td>\n",
       "      <td>31511.817627</td>\n",
       "      <td>751903</td>\n",
       "      <td>60914.817625</td>\n",
       "      <td>2006.0</td>\n",
       "    </tr>\n",
       "    <tr>\n",
       "      <td>5</td>\n",
       "      <td>46.0</td>\n",
       "      <td>188</td>\n",
       "      <td>26056.481036</td>\n",
       "      <td>38022.16217</td>\n",
       "      <td>54399.130301</td>\n",
       "      <td>95389</td>\n",
       "      <td>86807.478434</td>\n",
       "      <td>2010.0</td>\n",
       "    </tr>\n",
       "  </tbody>\n",
       "</table>\n",
       "</div>"
      ],
      "text/plain": [
       "           Age  Body Height cm       Country  Income in EUR    Profession  \\\n",
       "Instance                                                                    \n",
       "1         41.0             193  19901.938560    61031.94416  90894.613620   \n",
       "2         41.0             186  33970.831049    91001.32764  87476.563667   \n",
       "3         28.0             170  52065.951148   157982.17670  67844.140129   \n",
       "4         33.0             171  60790.387872    45993.75793  31511.817627   \n",
       "5         46.0             188  26056.481036    38022.16217  54399.130301   \n",
       "\n",
       "          Size of City  University Degree  Year of Record  \n",
       "Instance                                                   \n",
       "1              1239930       66171.973738          1997.0  \n",
       "2              1603504       70029.467371          1996.0  \n",
       "3              1298017       78634.418796          2018.0  \n",
       "4               751903       60914.817625          2006.0  \n",
       "5                95389       86807.478434          2010.0  "
      ]
     },
     "execution_count": 17,
     "metadata": {},
     "output_type": "execute_result"
    }
   ],
   "source": [
    "new_train.head()"
   ]
  },
  {
   "cell_type": "code",
   "execution_count": 18,
   "metadata": {},
   "outputs": [
    {
     "data": {
      "text/html": [
       "<div>\n",
       "<style scoped>\n",
       "    .dataframe tbody tr th:only-of-type {\n",
       "        vertical-align: middle;\n",
       "    }\n",
       "\n",
       "    .dataframe tbody tr th {\n",
       "        vertical-align: top;\n",
       "    }\n",
       "\n",
       "    .dataframe thead th {\n",
       "        text-align: right;\n",
       "    }\n",
       "</style>\n",
       "<table border=\"1\" class=\"dataframe\">\n",
       "  <thead>\n",
       "    <tr style=\"text-align: right;\">\n",
       "      <th></th>\n",
       "      <th>Age</th>\n",
       "      <th>Body Height cm</th>\n",
       "      <th>Country</th>\n",
       "      <th>Income</th>\n",
       "      <th>Profession</th>\n",
       "      <th>Size of City</th>\n",
       "      <th>University Degree</th>\n",
       "      <th>Year of Record</th>\n",
       "    </tr>\n",
       "    <tr>\n",
       "      <th>Instance</th>\n",
       "      <th></th>\n",
       "      <th></th>\n",
       "      <th></th>\n",
       "      <th></th>\n",
       "      <th></th>\n",
       "      <th></th>\n",
       "      <th></th>\n",
       "      <th></th>\n",
       "    </tr>\n",
       "  </thead>\n",
       "  <tbody>\n",
       "    <tr>\n",
       "      <td>111994</td>\n",
       "      <td>21.0</td>\n",
       "      <td>153</td>\n",
       "      <td>24919.838128</td>\n",
       "      <td>37.301599</td>\n",
       "      <td>93104.970460</td>\n",
       "      <td>391652</td>\n",
       "      <td>70029.467371</td>\n",
       "      <td>1992.0</td>\n",
       "    </tr>\n",
       "    <tr>\n",
       "      <td>111995</td>\n",
       "      <td>34.0</td>\n",
       "      <td>163</td>\n",
       "      <td>28024.190053</td>\n",
       "      <td>37.301599</td>\n",
       "      <td>38587.367753</td>\n",
       "      <td>33653</td>\n",
       "      <td>66171.973738</td>\n",
       "      <td>1986.0</td>\n",
       "    </tr>\n",
       "    <tr>\n",
       "      <td>111996</td>\n",
       "      <td>53.0</td>\n",
       "      <td>153</td>\n",
       "      <td>37416.166095</td>\n",
       "      <td>37.301599</td>\n",
       "      <td>41331.420448</td>\n",
       "      <td>34765</td>\n",
       "      <td>66171.973738</td>\n",
       "      <td>1994.0</td>\n",
       "    </tr>\n",
       "    <tr>\n",
       "      <td>111997</td>\n",
       "      <td>29.0</td>\n",
       "      <td>154</td>\n",
       "      <td>143768.294289</td>\n",
       "      <td>37.301599</td>\n",
       "      <td>48496.377648</td>\n",
       "      <td>1494132</td>\n",
       "      <td>60914.817625</td>\n",
       "      <td>1984.0</td>\n",
       "    </tr>\n",
       "    <tr>\n",
       "      <td>111998</td>\n",
       "      <td>17.0</td>\n",
       "      <td>191</td>\n",
       "      <td>16211.202348</td>\n",
       "      <td>37.301599</td>\n",
       "      <td>75416.825245</td>\n",
       "      <td>120661</td>\n",
       "      <td>60914.817625</td>\n",
       "      <td>2007.0</td>\n",
       "    </tr>\n",
       "  </tbody>\n",
       "</table>\n",
       "</div>"
      ],
      "text/plain": [
       "           Age  Body Height cm        Country     Income    Profession  \\\n",
       "Instance                                                                 \n",
       "111994    21.0             153   24919.838128  37.301599  93104.970460   \n",
       "111995    34.0             163   28024.190053  37.301599  38587.367753   \n",
       "111996    53.0             153   37416.166095  37.301599  41331.420448   \n",
       "111997    29.0             154  143768.294289  37.301599  48496.377648   \n",
       "111998    17.0             191   16211.202348  37.301599  75416.825245   \n",
       "\n",
       "          Size of City  University Degree  Year of Record  \n",
       "Instance                                                   \n",
       "111994          391652       70029.467371          1992.0  \n",
       "111995           33653       66171.973738          1986.0  \n",
       "111996           34765       66171.973738          1994.0  \n",
       "111997         1494132       60914.817625          1984.0  \n",
       "111998          120661       60914.817625          2007.0  "
      ]
     },
     "execution_count": 18,
     "metadata": {},
     "output_type": "execute_result"
    }
   ],
   "source": [
    "new_test.head()"
   ]
  },
  {
   "cell_type": "code",
   "execution_count": 19,
   "metadata": {},
   "outputs": [],
   "source": [
    "new_test.drop(['Income'],axis=1,inplace=True)"
   ]
  },
  {
   "cell_type": "code",
   "execution_count": 20,
   "metadata": {},
   "outputs": [
    {
     "name": "stdout",
     "output_type": "stream",
     "text": [
      "(73230, 7)\n",
      "(111993, 8)\n"
     ]
    }
   ],
   "source": [
    "print(new_test.shape)\n",
    "print(new_train.shape)"
   ]
  },
  {
   "cell_type": "code",
   "execution_count": 21,
   "metadata": {},
   "outputs": [],
   "source": [
    "Xtrain = new_train.drop('Income in EUR',1) # this is data\n",
    "Ytrain = new_train['Income in EUR'] #This is label"
   ]
  },
  {
   "cell_type": "code",
   "execution_count": 22,
   "metadata": {},
   "outputs": [
    {
     "name": "stdout",
     "output_type": "stream",
     "text": [
      "(111993, 7)\n",
      "(111993,)\n"
     ]
    }
   ],
   "source": [
    "print(Xtrain.shape)\n",
    "print(Ytrain.shape)"
   ]
  },
  {
   "cell_type": "code",
   "execution_count": 23,
   "metadata": {},
   "outputs": [],
   "source": [
    "# def is_missing(df, columns):\n",
    "#     missing_value = {}\n",
    "#     print('Number of Missing at each column')\n",
    "#     length_df = len(df)\n",
    "#     for i in columns:\n",
    "#         total_value = df[i].value_counts().sum()\n",
    "#         missing_value[i] = length_df - total_val \n",
    "#     print(missing_value)"
   ]
  },
  {
   "cell_type": "code",
   "execution_count": 24,
   "metadata": {},
   "outputs": [],
   "source": [
    "Xstdscaler = StandardScaler()\n",
    "stdx = Xstdscaler.fit_transform(Xtrain)\n",
    "\n",
    "Test_stdscaler = StandardScaler()\n",
    "std_test = Xstdscaler.fit_transform(new_test)"
   ]
  },
  {
   "cell_type": "code",
   "execution_count": 25,
   "metadata": {},
   "outputs": [],
   "source": [
    "scaled_Xtrain = pd.DataFrame(stdx, columns = Xtrain.columns)\n",
    "scaled_newtest = pd.DataFrame(std_test, columns = new_test.columns)"
   ]
  },
  {
   "cell_type": "code",
   "execution_count": 26,
   "metadata": {},
   "outputs": [],
   "source": [
    "# scaled_Xtrain.columns = [regex.sub(\"_\", col) if any(x in str(col) for x in set(('[', ']', '<'))) else col for col in scaled_Xtrain.columns.values]"
   ]
  },
  {
   "cell_type": "code",
   "execution_count": 27,
   "metadata": {},
   "outputs": [],
   "source": [
    "# scaled_newtest.columns = [regex.sub(\"_\", col) if any(x in str(col) for x in set(('[', ']', '<'))) else col for col in scaled_newtest.columns.values]"
   ]
  },
  {
   "cell_type": "markdown",
   "metadata": {},
   "source": [
    "# Random Forest"
   ]
  },
  {
   "cell_type": "code",
   "execution_count": 28,
   "metadata": {},
   "outputs": [],
   "source": [
    "# %%time\n",
    "# Random_Forest = RandomForestRegressor(n_estimators = 1000, random_state = 0)\n",
    "# RF_Model = Random_Forest.fit(scaled_Xtrain,Ytrain)\n",
    "# Accu = (RF_Model.score(scaled_Xtrain,Ytrain))"
   ]
  },
  {
   "cell_type": "markdown",
   "metadata": {},
   "source": [
    "# KNN"
   ]
  },
  {
   "cell_type": "code",
   "execution_count": null,
   "metadata": {},
   "outputs": [],
   "source": [
    "# %%time\n",
    "# knn = KNeighborsClassifier()\n",
    "# knn.fit(scaled_Xtrain,training_scores_encoded)\n",
    "# Y_Pred = knn.predict(scaled_newtest)\n",
    "#Accu = (knn.score(scaled_Xtrain,Ytrain))"
   ]
  },
  {
   "cell_type": "markdown",
   "metadata": {},
   "source": [
    "# Label Encoder"
   ]
  },
  {
   "cell_type": "code",
   "execution_count": 29,
   "metadata": {
    "scrolled": true
   },
   "outputs": [],
   "source": [
    "# from sklearn import preprocessing\n",
    "# from sklearn import utils\n",
    "# lab_enc = preprocessing.LabelEncoder()\n",
    "# training_scores_encoded = lab_enc.fit_transform(Ytrain)\n",
    "# print(training_scores_encoded)\n",
    "# print(utils.multiclass.type_of_target(Ytrain))\n",
    "# print(utils.multiclass.type_of_target(Ytrain.astype('int')))\n",
    "# print(utils.multiclass.type_of_target(training_scores_encoded))"
   ]
  },
  {
   "cell_type": "markdown",
   "metadata": {},
   "source": [
    "# Final Pre-processing"
   ]
  },
  {
   "cell_type": "code",
   "execution_count": 30,
   "metadata": {},
   "outputs": [],
   "source": [
    "from sklearn.preprocessing import PolynomialFeatures\n",
    "\n",
    "poly1 = PolynomialFeatures()\n",
    "Xtrain = poly1.fit_transform(Xtrain)\n",
    "\n",
    "poly2 = PolynomialFeatures()\n",
    "new_test = poly2.fit_transform(new_test)"
   ]
  },
  {
   "cell_type": "markdown",
   "metadata": {},
   "source": [
    "# XGBoost"
   ]
  },
  {
   "cell_type": "code",
   "execution_count": 35,
   "metadata": {},
   "outputs": [
    {
     "name": "stdout",
     "output_type": "stream",
     "text": [
      "[23:52:05] WARNING: src/objective/regression_obj.cu:152: reg:linear is now deprecated in favor of reg:squarederror.\n",
      "CPU times: user 53.9 s, sys: 142 ms, total: 54 s\n",
      "Wall time: 54.1 s\n"
     ]
    }
   ],
   "source": [
    "%%time\n",
    "xg_reg = xgb.XGBRegressor(objective ='reg:linear', learning_rate = 0.11, random_state = 82, max_depth = 6, alpha = 5, subsample=0.7, colsample_bytree = 1)\n",
    "model = xg_reg.fit(Xtrain,Ytrain)\n"
   ]
  },
  {
   "cell_type": "code",
   "execution_count": 37,
   "metadata": {},
   "outputs": [],
   "source": [
    "prediction = model.predict(new_test)"
   ]
  },
  {
   "cell_type": "markdown",
   "metadata": {},
   "source": [
    "# Submission"
   ]
  },
  {
   "cell_type": "code",
   "execution_count": 38,
   "metadata": {},
   "outputs": [],
   "source": [
    "Submit = pd.DataFrame()\n",
    "Submit['Instance'] = test_set.index\n",
    "Submit['Income'] = prediction\n",
    "Submit.to_csv('sub6.csv',index=False)"
   ]
  }
 ],
 "metadata": {
  "kernelspec": {
   "display_name": "Python 3",
   "language": "python",
   "name": "python3"
  },
  "language_info": {
   "codemirror_mode": {
    "name": "ipython",
    "version": 3
   },
   "file_extension": ".py",
   "mimetype": "text/x-python",
   "name": "python",
   "nbconvert_exporter": "python",
   "pygments_lexer": "ipython3",
   "version": "3.7.3"
  }
 },
 "nbformat": 4,
 "nbformat_minor": 2
}
