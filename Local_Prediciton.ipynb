{
 "cells": [
  {
   "cell_type": "code",
   "execution_count": 1,
   "metadata": {},
   "outputs": [],
   "source": [
    "%config IPCompleter.greedy=True\n",
    "import time\n",
    "from sklearn import tree\n",
    "from sklearn.model_selection import train_test_split\n",
    "from sklearn.ensemble import RandomForestRegressor\n",
    "from sklearn.linear_model import LinearRegression\n",
    "from sklearn.metrics import mean_squared_error, r2_score\n",
    "from sklearn.preprocessing import StandardScaler\n",
    "%matplotlib inline\n",
    "import matplotlib.pyplot as plt\n",
    "import pandas as pd\n",
    "import numpy as np\n",
    "import xgboost as xgb\n",
    "import re\n",
    "regex = re.compile(r\"\\[|\\]|<\", re.IGNORECASE)"
   ]
  },
  {
   "cell_type": "markdown",
   "metadata": {},
   "source": [
    "# Load Data"
   ]
  },
  {
   "cell_type": "code",
   "execution_count": 2,
   "metadata": {},
   "outputs": [],
   "source": [
    "train = pd.read_csv(\"tcd ml 2019-20 income prediction training (with labels).csv\", index_col = 0)\n",
    "X = train[['Country', 'Profession', 'Year of Record', 'Age', 'Body Height [cm]','Income in EUR', 'Size of City','University Degree']]\n",
    "Y = train['Income in EUR']"
   ]
  },
  {
   "cell_type": "markdown",
   "metadata": {},
   "source": [
    "# Split the Data"
   ]
  },
  {
   "cell_type": "code",
   "execution_count": 3,
   "metadata": {},
   "outputs": [],
   "source": [
    "X_train, X_test, y_train, y_test = train_test_split(X, Y, test_size=0.2, random_state=123)"
   ]
  },
  {
   "cell_type": "code",
   "execution_count": 4,
   "metadata": {},
   "outputs": [
    {
     "name": "stderr",
     "output_type": "stream",
     "text": [
      "/Users/Ayush/anaconda3/lib/python3.7/site-packages/ipykernel_launcher.py:1: SettingWithCopyWarning: \n",
      "A value is trying to be set on a copy of a slice from a DataFrame.\n",
      "Try using .loc[row_indexer,col_indexer] = value instead\n",
      "\n",
      "See the caveats in the documentation: http://pandas.pydata.org/pandas-docs/stable/user_guide/indexing.html#returning-a-view-versus-a-copy\n",
      "  \"\"\"Entry point for launching an IPython kernel.\n",
      "/Users/Ayush/anaconda3/lib/python3.7/site-packages/ipykernel_launcher.py:2: SettingWithCopyWarning: \n",
      "A value is trying to be set on a copy of a slice from a DataFrame.\n",
      "Try using .loc[row_indexer,col_indexer] = value instead\n",
      "\n",
      "See the caveats in the documentation: http://pandas.pydata.org/pandas-docs/stable/user_guide/indexing.html#returning-a-view-versus-a-copy\n",
      "  \n"
     ]
    }
   ],
   "source": [
    "X_train[\"train\"] = 1\n",
    "X_test[\"train\"] = 0"
   ]
  },
  {
   "cell_type": "code",
   "execution_count": 5,
   "metadata": {
    "scrolled": true
   },
   "outputs": [],
   "source": [
    "df = pd.concat([X_train,X_test])"
   ]
  },
  {
   "cell_type": "code",
   "execution_count": 6,
   "metadata": {},
   "outputs": [],
   "source": [
    "df = df.rename(columns = {'Body Height [cm]' : 'Body Height cm'})"
   ]
  },
  {
   "cell_type": "markdown",
   "metadata": {},
   "source": [
    "# Data Cleaning"
   ]
  },
  {
   "cell_type": "code",
   "execution_count": 7,
   "metadata": {},
   "outputs": [],
   "source": [
    "col1 = df.columns\n",
    "df[col1] = df[col1].fillna(df.mean().iloc[0])"
   ]
  },
  {
   "cell_type": "code",
   "execution_count": 8,
   "metadata": {},
   "outputs": [
    {
     "data": {
      "text/plain": [
       "Country              0\n",
       "Profession           0\n",
       "Year of Record       0\n",
       "Age                  0\n",
       "Body Height cm       0\n",
       "Income in EUR        0\n",
       "Size of City         0\n",
       "University Degree    0\n",
       "train                0\n",
       "dtype: int64"
      ]
     },
     "execution_count": 8,
     "metadata": {},
     "output_type": "execute_result"
    }
   ],
   "source": [
    "df.isnull().sum()"
   ]
  },
  {
   "cell_type": "code",
   "execution_count": 9,
   "metadata": {},
   "outputs": [],
   "source": [
    "df1 = df.groupby('Profession')['Income in EUR'].agg('mean')\n",
    "df1 = df1.to_dict()\n",
    "df2 = df.groupby('Country')['Income in EUR'].agg('mean')\n",
    "df2 = df2.to_dict()\n",
    "df3 = df.groupby('University Degree')['Income in EUR'].agg('mean')\n",
    "df3 = df3.to_dict()"
   ]
  },
  {
   "cell_type": "code",
   "execution_count": 10,
   "metadata": {},
   "outputs": [],
   "source": [
    "df.Profession = df.Profession.replace(df1)\n",
    "df.Country = df.Country.replace(df2)\n",
    "df['University Degree']= df['University Degree'].replace(df3)"
   ]
  },
  {
   "cell_type": "code",
   "execution_count": 11,
   "metadata": {},
   "outputs": [
    {
     "data": {
      "text/html": [
       "<div>\n",
       "<style scoped>\n",
       "    .dataframe tbody tr th:only-of-type {\n",
       "        vertical-align: middle;\n",
       "    }\n",
       "\n",
       "    .dataframe tbody tr th {\n",
       "        vertical-align: top;\n",
       "    }\n",
       "\n",
       "    .dataframe thead th {\n",
       "        text-align: right;\n",
       "    }\n",
       "</style>\n",
       "<table border=\"1\" class=\"dataframe\">\n",
       "  <thead>\n",
       "    <tr style=\"text-align: right;\">\n",
       "      <th></th>\n",
       "      <th>Country</th>\n",
       "      <th>Profession</th>\n",
       "      <th>Year of Record</th>\n",
       "      <th>Age</th>\n",
       "      <th>Body Height cm</th>\n",
       "      <th>Income in EUR</th>\n",
       "      <th>Size of City</th>\n",
       "      <th>University Degree</th>\n",
       "      <th>train</th>\n",
       "    </tr>\n",
       "    <tr>\n",
       "      <th>Instance</th>\n",
       "      <th></th>\n",
       "      <th></th>\n",
       "      <th></th>\n",
       "      <th></th>\n",
       "      <th></th>\n",
       "      <th></th>\n",
       "      <th></th>\n",
       "      <th></th>\n",
       "      <th></th>\n",
       "    </tr>\n",
       "  </thead>\n",
       "  <tbody>\n",
       "    <tr>\n",
       "      <td>109633</td>\n",
       "      <td>30243.004303</td>\n",
       "      <td>89123.874178</td>\n",
       "      <td>1996.0</td>\n",
       "      <td>39.0</td>\n",
       "      <td>171</td>\n",
       "      <td>35212.02371</td>\n",
       "      <td>825305</td>\n",
       "      <td>129392.416341</td>\n",
       "      <td>1</td>\n",
       "    </tr>\n",
       "    <tr>\n",
       "      <td>43987</td>\n",
       "      <td>144684.841548</td>\n",
       "      <td>98057.568409</td>\n",
       "      <td>1980.0</td>\n",
       "      <td>27.0</td>\n",
       "      <td>141</td>\n",
       "      <td>49486.53646</td>\n",
       "      <td>357622</td>\n",
       "      <td>92880.785115</td>\n",
       "      <td>1</td>\n",
       "    </tr>\n",
       "    <tr>\n",
       "      <td>111400</td>\n",
       "      <td>280348.516093</td>\n",
       "      <td>133995.974029</td>\n",
       "      <td>1982.0</td>\n",
       "      <td>52.0</td>\n",
       "      <td>191</td>\n",
       "      <td>226450.90150</td>\n",
       "      <td>1093439</td>\n",
       "      <td>108933.097570</td>\n",
       "      <td>1</td>\n",
       "    </tr>\n",
       "    <tr>\n",
       "      <td>44057</td>\n",
       "      <td>26742.202928</td>\n",
       "      <td>107176.876031</td>\n",
       "      <td>2018.0</td>\n",
       "      <td>42.0</td>\n",
       "      <td>153</td>\n",
       "      <td>41318.64566</td>\n",
       "      <td>1788080</td>\n",
       "      <td>108933.097570</td>\n",
       "      <td>1</td>\n",
       "    </tr>\n",
       "    <tr>\n",
       "      <td>35684</td>\n",
       "      <td>193673.004200</td>\n",
       "      <td>98130.927277</td>\n",
       "      <td>2015.0</td>\n",
       "      <td>19.0</td>\n",
       "      <td>201</td>\n",
       "      <td>130460.74090</td>\n",
       "      <td>41570</td>\n",
       "      <td>100846.516693</td>\n",
       "      <td>1</td>\n",
       "    </tr>\n",
       "  </tbody>\n",
       "</table>\n",
       "</div>"
      ],
      "text/plain": [
       "                Country     Profession  Year of Record   Age  Body Height cm  \\\n",
       "Instance                                                                       \n",
       "109633     30243.004303   89123.874178          1996.0  39.0             171   \n",
       "43987     144684.841548   98057.568409          1980.0  27.0             141   \n",
       "111400    280348.516093  133995.974029          1982.0  52.0             191   \n",
       "44057      26742.202928  107176.876031          2018.0  42.0             153   \n",
       "35684     193673.004200   98130.927277          2015.0  19.0             201   \n",
       "\n",
       "          Income in EUR  Size of City  University Degree  train  \n",
       "Instance                                                         \n",
       "109633      35212.02371        825305      129392.416341      1  \n",
       "43987       49486.53646        357622       92880.785115      1  \n",
       "111400     226450.90150       1093439      108933.097570      1  \n",
       "44057       41318.64566       1788080      108933.097570      1  \n",
       "35684      130460.74090         41570      100846.516693      1  "
      ]
     },
     "execution_count": 11,
     "metadata": {},
     "output_type": "execute_result"
    }
   ],
   "source": [
    "df.head()"
   ]
  },
  {
   "cell_type": "code",
   "execution_count": 12,
   "metadata": {},
   "outputs": [
    {
     "data": {
      "text/plain": [
       "Country              0\n",
       "Profession           0\n",
       "Year of Record       0\n",
       "Age                  0\n",
       "Body Height cm       0\n",
       "Income in EUR        0\n",
       "Size of City         0\n",
       "University Degree    0\n",
       "train                0\n",
       "dtype: int64"
      ]
     },
     "execution_count": 12,
     "metadata": {},
     "output_type": "execute_result"
    }
   ],
   "source": [
    "df.isnull().sum()"
   ]
  },
  {
   "cell_type": "markdown",
   "metadata": {},
   "source": [
    "# One-Hot Encoding"
   ]
  },
  {
   "cell_type": "code",
   "execution_count": 13,
   "metadata": {},
   "outputs": [],
   "source": [
    "# df_encode = pd.get_dummies(df, columns = [\"Gender\",\"Hair Color\"])"
   ]
  },
  {
   "cell_type": "code",
   "execution_count": 14,
   "metadata": {},
   "outputs": [],
   "source": [
    "# df_encode.shape"
   ]
  },
  {
   "cell_type": "code",
   "execution_count": 15,
   "metadata": {},
   "outputs": [],
   "source": [
    "Xtrain = df[df['train'] == 1]\n",
    "Xtest = df[df['train'] == 0]"
   ]
  },
  {
   "cell_type": "code",
   "execution_count": 16,
   "metadata": {},
   "outputs": [
    {
     "data": {
      "text/html": [
       "<div>\n",
       "<style scoped>\n",
       "    .dataframe tbody tr th:only-of-type {\n",
       "        vertical-align: middle;\n",
       "    }\n",
       "\n",
       "    .dataframe tbody tr th {\n",
       "        vertical-align: top;\n",
       "    }\n",
       "\n",
       "    .dataframe thead th {\n",
       "        text-align: right;\n",
       "    }\n",
       "</style>\n",
       "<table border=\"1\" class=\"dataframe\">\n",
       "  <thead>\n",
       "    <tr style=\"text-align: right;\">\n",
       "      <th></th>\n",
       "      <th>Country</th>\n",
       "      <th>Profession</th>\n",
       "      <th>Year of Record</th>\n",
       "      <th>Age</th>\n",
       "      <th>Body Height cm</th>\n",
       "      <th>Income in EUR</th>\n",
       "      <th>Size of City</th>\n",
       "      <th>University Degree</th>\n",
       "      <th>train</th>\n",
       "    </tr>\n",
       "    <tr>\n",
       "      <th>Instance</th>\n",
       "      <th></th>\n",
       "      <th></th>\n",
       "      <th></th>\n",
       "      <th></th>\n",
       "      <th></th>\n",
       "      <th></th>\n",
       "      <th></th>\n",
       "      <th></th>\n",
       "      <th></th>\n",
       "    </tr>\n",
       "  </thead>\n",
       "  <tbody>\n",
       "    <tr>\n",
       "      <td>110475</td>\n",
       "      <td>84512.173088</td>\n",
       "      <td>65404.405946</td>\n",
       "      <td>2019.0</td>\n",
       "      <td>35.0</td>\n",
       "      <td>195</td>\n",
       "      <td>79830.46902</td>\n",
       "      <td>25142</td>\n",
       "      <td>116507.320667</td>\n",
       "      <td>0</td>\n",
       "    </tr>\n",
       "    <tr>\n",
       "      <td>20861</td>\n",
       "      <td>46257.979683</td>\n",
       "      <td>97182.439295</td>\n",
       "      <td>1981.0</td>\n",
       "      <td>33.0</td>\n",
       "      <td>144</td>\n",
       "      <td>10054.95691</td>\n",
       "      <td>49962</td>\n",
       "      <td>108933.097570</td>\n",
       "      <td>0</td>\n",
       "    </tr>\n",
       "    <tr>\n",
       "      <td>103651</td>\n",
       "      <td>265648.449319</td>\n",
       "      <td>101026.266668</td>\n",
       "      <td>1990.0</td>\n",
       "      <td>35.0</td>\n",
       "      <td>183</td>\n",
       "      <td>280939.88010</td>\n",
       "      <td>19780</td>\n",
       "      <td>129392.416341</td>\n",
       "      <td>0</td>\n",
       "    </tr>\n",
       "    <tr>\n",
       "      <td>88546</td>\n",
       "      <td>244180.669506</td>\n",
       "      <td>60777.792611</td>\n",
       "      <td>2008.0</td>\n",
       "      <td>15.0</td>\n",
       "      <td>186</td>\n",
       "      <td>70548.78051</td>\n",
       "      <td>518634</td>\n",
       "      <td>100846.516693</td>\n",
       "      <td>0</td>\n",
       "    </tr>\n",
       "    <tr>\n",
       "      <td>109141</td>\n",
       "      <td>28138.382300</td>\n",
       "      <td>131912.244546</td>\n",
       "      <td>1984.0</td>\n",
       "      <td>24.0</td>\n",
       "      <td>160</td>\n",
       "      <td>27814.17875</td>\n",
       "      <td>1319313</td>\n",
       "      <td>108933.097570</td>\n",
       "      <td>0</td>\n",
       "    </tr>\n",
       "  </tbody>\n",
       "</table>\n",
       "</div>"
      ],
      "text/plain": [
       "                Country     Profession  Year of Record   Age  Body Height cm  \\\n",
       "Instance                                                                       \n",
       "110475     84512.173088   65404.405946          2019.0  35.0             195   \n",
       "20861      46257.979683   97182.439295          1981.0  33.0             144   \n",
       "103651    265648.449319  101026.266668          1990.0  35.0             183   \n",
       "88546     244180.669506   60777.792611          2008.0  15.0             186   \n",
       "109141     28138.382300  131912.244546          1984.0  24.0             160   \n",
       "\n",
       "          Income in EUR  Size of City  University Degree  train  \n",
       "Instance                                                         \n",
       "110475      79830.46902         25142      116507.320667      0  \n",
       "20861       10054.95691         49962      108933.097570      0  \n",
       "103651     280939.88010         19780      129392.416341      0  \n",
       "88546       70548.78051        518634      100846.516693      0  \n",
       "109141      27814.17875       1319313      108933.097570      0  "
      ]
     },
     "execution_count": 16,
     "metadata": {},
     "output_type": "execute_result"
    }
   ],
   "source": [
    "Xtest.head()"
   ]
  },
  {
   "cell_type": "code",
   "execution_count": 17,
   "metadata": {},
   "outputs": [
    {
     "name": "stderr",
     "output_type": "stream",
     "text": [
      "/Users/Ayush/anaconda3/lib/python3.7/site-packages/pandas/core/frame.py:4102: SettingWithCopyWarning: \n",
      "A value is trying to be set on a copy of a slice from a DataFrame\n",
      "\n",
      "See the caveats in the documentation: http://pandas.pydata.org/pandas-docs/stable/user_guide/indexing.html#returning-a-view-versus-a-copy\n",
      "  errors=errors,\n"
     ]
    }
   ],
   "source": [
    "Xtest.drop(['Income in EUR','train'],axis=1,inplace=True)"
   ]
  },
  {
   "cell_type": "code",
   "execution_count": 18,
   "metadata": {},
   "outputs": [
    {
     "data": {
      "text/html": [
       "<div>\n",
       "<style scoped>\n",
       "    .dataframe tbody tr th:only-of-type {\n",
       "        vertical-align: middle;\n",
       "    }\n",
       "\n",
       "    .dataframe tbody tr th {\n",
       "        vertical-align: top;\n",
       "    }\n",
       "\n",
       "    .dataframe thead th {\n",
       "        text-align: right;\n",
       "    }\n",
       "</style>\n",
       "<table border=\"1\" class=\"dataframe\">\n",
       "  <thead>\n",
       "    <tr style=\"text-align: right;\">\n",
       "      <th></th>\n",
       "      <th>Country</th>\n",
       "      <th>Profession</th>\n",
       "      <th>Year of Record</th>\n",
       "      <th>Age</th>\n",
       "      <th>Body Height cm</th>\n",
       "      <th>Income in EUR</th>\n",
       "      <th>Size of City</th>\n",
       "      <th>University Degree</th>\n",
       "      <th>train</th>\n",
       "    </tr>\n",
       "    <tr>\n",
       "      <th>Instance</th>\n",
       "      <th></th>\n",
       "      <th></th>\n",
       "      <th></th>\n",
       "      <th></th>\n",
       "      <th></th>\n",
       "      <th></th>\n",
       "      <th></th>\n",
       "      <th></th>\n",
       "      <th></th>\n",
       "    </tr>\n",
       "  </thead>\n",
       "  <tbody>\n",
       "    <tr>\n",
       "      <td>109633</td>\n",
       "      <td>30243.004303</td>\n",
       "      <td>89123.874178</td>\n",
       "      <td>1996.0</td>\n",
       "      <td>39.0</td>\n",
       "      <td>171</td>\n",
       "      <td>35212.02371</td>\n",
       "      <td>825305</td>\n",
       "      <td>129392.416341</td>\n",
       "      <td>1</td>\n",
       "    </tr>\n",
       "    <tr>\n",
       "      <td>43987</td>\n",
       "      <td>144684.841548</td>\n",
       "      <td>98057.568409</td>\n",
       "      <td>1980.0</td>\n",
       "      <td>27.0</td>\n",
       "      <td>141</td>\n",
       "      <td>49486.53646</td>\n",
       "      <td>357622</td>\n",
       "      <td>92880.785115</td>\n",
       "      <td>1</td>\n",
       "    </tr>\n",
       "    <tr>\n",
       "      <td>111400</td>\n",
       "      <td>280348.516093</td>\n",
       "      <td>133995.974029</td>\n",
       "      <td>1982.0</td>\n",
       "      <td>52.0</td>\n",
       "      <td>191</td>\n",
       "      <td>226450.90150</td>\n",
       "      <td>1093439</td>\n",
       "      <td>108933.097570</td>\n",
       "      <td>1</td>\n",
       "    </tr>\n",
       "    <tr>\n",
       "      <td>44057</td>\n",
       "      <td>26742.202928</td>\n",
       "      <td>107176.876031</td>\n",
       "      <td>2018.0</td>\n",
       "      <td>42.0</td>\n",
       "      <td>153</td>\n",
       "      <td>41318.64566</td>\n",
       "      <td>1788080</td>\n",
       "      <td>108933.097570</td>\n",
       "      <td>1</td>\n",
       "    </tr>\n",
       "    <tr>\n",
       "      <td>35684</td>\n",
       "      <td>193673.004200</td>\n",
       "      <td>98130.927277</td>\n",
       "      <td>2015.0</td>\n",
       "      <td>19.0</td>\n",
       "      <td>201</td>\n",
       "      <td>130460.74090</td>\n",
       "      <td>41570</td>\n",
       "      <td>100846.516693</td>\n",
       "      <td>1</td>\n",
       "    </tr>\n",
       "  </tbody>\n",
       "</table>\n",
       "</div>"
      ],
      "text/plain": [
       "                Country     Profession  Year of Record   Age  Body Height cm  \\\n",
       "Instance                                                                       \n",
       "109633     30243.004303   89123.874178          1996.0  39.0             171   \n",
       "43987     144684.841548   98057.568409          1980.0  27.0             141   \n",
       "111400    280348.516093  133995.974029          1982.0  52.0             191   \n",
       "44057      26742.202928  107176.876031          2018.0  42.0             153   \n",
       "35684     193673.004200   98130.927277          2015.0  19.0             201   \n",
       "\n",
       "          Income in EUR  Size of City  University Degree  train  \n",
       "Instance                                                         \n",
       "109633      35212.02371        825305      129392.416341      1  \n",
       "43987       49486.53646        357622       92880.785115      1  \n",
       "111400     226450.90150       1093439      108933.097570      1  \n",
       "44057       41318.64566       1788080      108933.097570      1  \n",
       "35684      130460.74090         41570      100846.516693      1  "
      ]
     },
     "execution_count": 18,
     "metadata": {},
     "output_type": "execute_result"
    }
   ],
   "source": [
    "Xtrain.head()"
   ]
  },
  {
   "cell_type": "code",
   "execution_count": 19,
   "metadata": {},
   "outputs": [
    {
     "data": {
      "text/html": [
       "<div>\n",
       "<style scoped>\n",
       "    .dataframe tbody tr th:only-of-type {\n",
       "        vertical-align: middle;\n",
       "    }\n",
       "\n",
       "    .dataframe tbody tr th {\n",
       "        vertical-align: top;\n",
       "    }\n",
       "\n",
       "    .dataframe thead th {\n",
       "        text-align: right;\n",
       "    }\n",
       "</style>\n",
       "<table border=\"1\" class=\"dataframe\">\n",
       "  <thead>\n",
       "    <tr style=\"text-align: right;\">\n",
       "      <th></th>\n",
       "      <th>Country</th>\n",
       "      <th>Profession</th>\n",
       "      <th>Year of Record</th>\n",
       "      <th>Age</th>\n",
       "      <th>Body Height cm</th>\n",
       "      <th>Size of City</th>\n",
       "      <th>University Degree</th>\n",
       "    </tr>\n",
       "    <tr>\n",
       "      <th>Instance</th>\n",
       "      <th></th>\n",
       "      <th></th>\n",
       "      <th></th>\n",
       "      <th></th>\n",
       "      <th></th>\n",
       "      <th></th>\n",
       "      <th></th>\n",
       "    </tr>\n",
       "  </thead>\n",
       "  <tbody>\n",
       "    <tr>\n",
       "      <td>110475</td>\n",
       "      <td>84512.173088</td>\n",
       "      <td>65404.405946</td>\n",
       "      <td>2019.0</td>\n",
       "      <td>35.0</td>\n",
       "      <td>195</td>\n",
       "      <td>25142</td>\n",
       "      <td>116507.320667</td>\n",
       "    </tr>\n",
       "    <tr>\n",
       "      <td>20861</td>\n",
       "      <td>46257.979683</td>\n",
       "      <td>97182.439295</td>\n",
       "      <td>1981.0</td>\n",
       "      <td>33.0</td>\n",
       "      <td>144</td>\n",
       "      <td>49962</td>\n",
       "      <td>108933.097570</td>\n",
       "    </tr>\n",
       "    <tr>\n",
       "      <td>103651</td>\n",
       "      <td>265648.449319</td>\n",
       "      <td>101026.266668</td>\n",
       "      <td>1990.0</td>\n",
       "      <td>35.0</td>\n",
       "      <td>183</td>\n",
       "      <td>19780</td>\n",
       "      <td>129392.416341</td>\n",
       "    </tr>\n",
       "    <tr>\n",
       "      <td>88546</td>\n",
       "      <td>244180.669506</td>\n",
       "      <td>60777.792611</td>\n",
       "      <td>2008.0</td>\n",
       "      <td>15.0</td>\n",
       "      <td>186</td>\n",
       "      <td>518634</td>\n",
       "      <td>100846.516693</td>\n",
       "    </tr>\n",
       "    <tr>\n",
       "      <td>109141</td>\n",
       "      <td>28138.382300</td>\n",
       "      <td>131912.244546</td>\n",
       "      <td>1984.0</td>\n",
       "      <td>24.0</td>\n",
       "      <td>160</td>\n",
       "      <td>1319313</td>\n",
       "      <td>108933.097570</td>\n",
       "    </tr>\n",
       "  </tbody>\n",
       "</table>\n",
       "</div>"
      ],
      "text/plain": [
       "                Country     Profession  Year of Record   Age  Body Height cm  \\\n",
       "Instance                                                                       \n",
       "110475     84512.173088   65404.405946          2019.0  35.0             195   \n",
       "20861      46257.979683   97182.439295          1981.0  33.0             144   \n",
       "103651    265648.449319  101026.266668          1990.0  35.0             183   \n",
       "88546     244180.669506   60777.792611          2008.0  15.0             186   \n",
       "109141     28138.382300  131912.244546          1984.0  24.0             160   \n",
       "\n",
       "          Size of City  University Degree  \n",
       "Instance                                   \n",
       "110475           25142      116507.320667  \n",
       "20861            49962      108933.097570  \n",
       "103651           19780      129392.416341  \n",
       "88546           518634      100846.516693  \n",
       "109141         1319313      108933.097570  "
      ]
     },
     "execution_count": 19,
     "metadata": {},
     "output_type": "execute_result"
    }
   ],
   "source": [
    "Xtest.head()"
   ]
  },
  {
   "cell_type": "code",
   "execution_count": 20,
   "metadata": {},
   "outputs": [],
   "source": [
    "Xtrain = Xtrain.drop('Income in EUR',1) # this is data"
   ]
  },
  {
   "cell_type": "code",
   "execution_count": 21,
   "metadata": {},
   "outputs": [
    {
     "data": {
      "text/html": [
       "<div>\n",
       "<style scoped>\n",
       "    .dataframe tbody tr th:only-of-type {\n",
       "        vertical-align: middle;\n",
       "    }\n",
       "\n",
       "    .dataframe tbody tr th {\n",
       "        vertical-align: top;\n",
       "    }\n",
       "\n",
       "    .dataframe thead th {\n",
       "        text-align: right;\n",
       "    }\n",
       "</style>\n",
       "<table border=\"1\" class=\"dataframe\">\n",
       "  <thead>\n",
       "    <tr style=\"text-align: right;\">\n",
       "      <th></th>\n",
       "      <th>Country</th>\n",
       "      <th>Profession</th>\n",
       "      <th>Year of Record</th>\n",
       "      <th>Age</th>\n",
       "      <th>Body Height cm</th>\n",
       "      <th>Size of City</th>\n",
       "      <th>University Degree</th>\n",
       "      <th>train</th>\n",
       "    </tr>\n",
       "    <tr>\n",
       "      <th>Instance</th>\n",
       "      <th></th>\n",
       "      <th></th>\n",
       "      <th></th>\n",
       "      <th></th>\n",
       "      <th></th>\n",
       "      <th></th>\n",
       "      <th></th>\n",
       "      <th></th>\n",
       "    </tr>\n",
       "  </thead>\n",
       "  <tbody>\n",
       "    <tr>\n",
       "      <td>109633</td>\n",
       "      <td>30243.004303</td>\n",
       "      <td>89123.874178</td>\n",
       "      <td>1996.0</td>\n",
       "      <td>39.0</td>\n",
       "      <td>171</td>\n",
       "      <td>825305</td>\n",
       "      <td>129392.416341</td>\n",
       "      <td>1</td>\n",
       "    </tr>\n",
       "    <tr>\n",
       "      <td>43987</td>\n",
       "      <td>144684.841548</td>\n",
       "      <td>98057.568409</td>\n",
       "      <td>1980.0</td>\n",
       "      <td>27.0</td>\n",
       "      <td>141</td>\n",
       "      <td>357622</td>\n",
       "      <td>92880.785115</td>\n",
       "      <td>1</td>\n",
       "    </tr>\n",
       "    <tr>\n",
       "      <td>111400</td>\n",
       "      <td>280348.516093</td>\n",
       "      <td>133995.974029</td>\n",
       "      <td>1982.0</td>\n",
       "      <td>52.0</td>\n",
       "      <td>191</td>\n",
       "      <td>1093439</td>\n",
       "      <td>108933.097570</td>\n",
       "      <td>1</td>\n",
       "    </tr>\n",
       "    <tr>\n",
       "      <td>44057</td>\n",
       "      <td>26742.202928</td>\n",
       "      <td>107176.876031</td>\n",
       "      <td>2018.0</td>\n",
       "      <td>42.0</td>\n",
       "      <td>153</td>\n",
       "      <td>1788080</td>\n",
       "      <td>108933.097570</td>\n",
       "      <td>1</td>\n",
       "    </tr>\n",
       "    <tr>\n",
       "      <td>35684</td>\n",
       "      <td>193673.004200</td>\n",
       "      <td>98130.927277</td>\n",
       "      <td>2015.0</td>\n",
       "      <td>19.0</td>\n",
       "      <td>201</td>\n",
       "      <td>41570</td>\n",
       "      <td>100846.516693</td>\n",
       "      <td>1</td>\n",
       "    </tr>\n",
       "  </tbody>\n",
       "</table>\n",
       "</div>"
      ],
      "text/plain": [
       "                Country     Profession  Year of Record   Age  Body Height cm  \\\n",
       "Instance                                                                       \n",
       "109633     30243.004303   89123.874178          1996.0  39.0             171   \n",
       "43987     144684.841548   98057.568409          1980.0  27.0             141   \n",
       "111400    280348.516093  133995.974029          1982.0  52.0             191   \n",
       "44057      26742.202928  107176.876031          2018.0  42.0             153   \n",
       "35684     193673.004200   98130.927277          2015.0  19.0             201   \n",
       "\n",
       "          Size of City  University Degree  train  \n",
       "Instance                                          \n",
       "109633          825305      129392.416341      1  \n",
       "43987           357622       92880.785115      1  \n",
       "111400         1093439      108933.097570      1  \n",
       "44057          1788080      108933.097570      1  \n",
       "35684            41570      100846.516693      1  "
      ]
     },
     "execution_count": 21,
     "metadata": {},
     "output_type": "execute_result"
    }
   ],
   "source": [
    "Xtrain.head()"
   ]
  },
  {
   "cell_type": "code",
   "execution_count": 22,
   "metadata": {},
   "outputs": [],
   "source": [
    "Xtrain = Xtrain.drop('train',1) # this is data"
   ]
  },
  {
   "cell_type": "code",
   "execution_count": 23,
   "metadata": {},
   "outputs": [],
   "source": [
    "# def find_missing_no(df, columns):\n",
    "#     missing_val = {}\n",
    "#     print('Number of Missing at each column')\n",
    "#     length_df = len(df)\n",
    "#     for i in columns:\n",
    "#         total_val = df[i].value_counts().sum()\n",
    "#         missing_val[i] = length_df - total_val \n",
    "#     print(missing_val)"
   ]
  },
  {
   "cell_type": "code",
   "execution_count": 24,
   "metadata": {},
   "outputs": [],
   "source": [
    "Xstdscaler1 = StandardScaler()\n",
    "stdx1 = Xstdscaler1.fit_transform(Xtrain)\n",
    "\n",
    "Test_stdscaler1 = StandardScaler()\n",
    "std_test1 = Xstdscaler1.fit_transform(Xtest)"
   ]
  },
  {
   "cell_type": "code",
   "execution_count": 25,
   "metadata": {},
   "outputs": [],
   "source": [
    "scaled_Xtrain = pd.DataFrame(stdx1, columns = Xtrain.columns)\n",
    "scaled_Xtest = pd.DataFrame(std_test1, columns = Xtest.columns)"
   ]
  },
  {
   "cell_type": "code",
   "execution_count": 26,
   "metadata": {},
   "outputs": [],
   "source": [
    "# from numpy import sort\n",
    "# from sklearn.feature_selection import SelectFromModel\n",
    "# from xgboost import XGBClassifier\n",
    "\n",
    "# thresholds = sort(model.feature_importances_)\n",
    "# for thresh in thresholds:\n",
    "#     # select features using threshold\n",
    "#     selection = SelectFromModel(model, threshold=thresh, prefit=True)\n",
    "#     select_X_train = selection.transform(scaled_Xtrain)\n",
    "#     # train model\n",
    "#     selection_model = XGBClassifier()\n",
    "#     selection_model.fit(scaled_Xtrain, y_train)\n",
    "#     # eval model\n",
    "#     scaled_Xtest1 = selection.transform(scaled_Xtest)\n",
    "#     y_pred = selection_model.predict(scaled_Xtest1)\n",
    "#     accuracy = model.score(scaled_Xtrain,y_train)\n",
    "#     print(\"Thresh=%.3f, n=%d, Accuracy: %.2f%%\" % (thresh, select_X_train.shape[1], accuracy*100.0))"
   ]
  },
  {
   "cell_type": "code",
   "execution_count": 27,
   "metadata": {},
   "outputs": [],
   "source": [
    "from sklearn.preprocessing import PolynomialFeatures\n",
    "\n",
    "poly1 = PolynomialFeatures(interaction_only=True)\n",
    "Xtrain = poly1.fit_transform(Xtrain)\n",
    "\n",
    "poly2 = PolynomialFeatures(interaction_only=True)\n",
    "Xtest = poly2.fit_transform(Xtest)"
   ]
  },
  {
   "cell_type": "markdown",
   "metadata": {},
   "source": [
    "# xGBoost"
   ]
  },
  {
   "cell_type": "code",
   "execution_count": 30,
   "metadata": {},
   "outputs": [
    {
     "name": "stderr",
     "output_type": "stream",
     "text": [
      "/Users/Ayush/anaconda3/lib/python3.7/site-packages/xgboost/core.py:587: FutureWarning: Series.base is deprecated and will be removed in a future version\n",
      "  if getattr(data, 'base', None) is not None and \\\n"
     ]
    },
    {
     "name": "stdout",
     "output_type": "stream",
     "text": [
      "[23:44:36] WARNING: src/objective/regression_obj.cu:152: reg:linear is now deprecated in favor of reg:squarederror.\n",
      "CPU times: user 43.9 s, sys: 94 ms, total: 44 s\n",
      "Wall time: 44 s\n"
     ]
    }
   ],
   "source": [
    "%%time\n",
    "xg_reg = xgb.XGBRegressor(objective ='reg:linear', learning_rate = 0.1, random_state = 82, max_depth = 6, alpha = 5, subsample=0.7, colsample_bytree = 1)\n",
    "model = xg_reg.fit(Xtrain,y_train)\n",
    "# colsample_bytree = 0.4, "
   ]
  },
  {
   "cell_type": "code",
   "execution_count": 31,
   "metadata": {},
   "outputs": [
    {
     "name": "stdout",
     "output_type": "stream",
     "text": [
      "Accuracy: 91.70%\n",
      "RMSE: 56769.750279\n"
     ]
    }
   ],
   "source": [
    "from sklearn.metrics import accuracy_score\n",
    "\n",
    "preds = model.predict(Xtest)\n",
    "\n",
    "accuracy = model.score(Xtrain,y_train)\n",
    "print(\"Accuracy: %.2f%%\" % (accuracy * 100.0))\n",
    "\n",
    "rmse = np.sqrt(mean_squared_error(y_test, preds))\n",
    "print(\"RMSE: %f\" % (rmse))\n"
   ]
  },
  {
   "cell_type": "code",
   "execution_count": 76,
   "metadata": {},
   "outputs": [
    {
     "data": {
      "image/png": "[encoded data removed]",
      "text/plain": [
       "<Figure size 432x288 with 1 Axes>"
      ]
     },
     "metadata": {
      "needs_background": "light"
     },
     "output_type": "display_data"
    }
   ],
   "source": [
    "from xgboost import plot_importance\n",
    "import matplotlib.pyplot as plt\n",
    "\n",
    "# plot feature importance\n",
    "plot_importance(model)\n",
    "plt.show()"
   ]
  },
  {
   "cell_type": "code",
   "execution_count": 148,
   "metadata": {},
   "outputs": [],
   "source": [
    "Submit = pd.DataFrame()\n",
    "Submit['Instance'] = test_set.index\n",
    "Submit['Income'] = prediction\n",
    "Submit.to_csv('AYUSH5.csv',index=False)"
   ]
  }
 ],
 "metadata": {
  "kernelspec": {
   "display_name": "Python 3",
   "language": "python",
   "name": "python3"
  },
  "language_info": {
   "codemirror_mode": {
    "name": "ipython",
    "version": 3
   },
   "file_extension": ".py",
   "mimetype": "text/x-python",
   "name": "python",
   "nbconvert_exporter": "python",
   "pygments_lexer": "ipython3",
   "version": "3.7.3"
  }
 },
 "nbformat": 4,
 "nbformat_minor": 2
}
